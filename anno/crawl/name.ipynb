{
 "cells": [
  {
   "cell_type": "code",
   "execution_count": 3,
   "metadata": {},
   "outputs": [
    {
     "name": "stdout",
     "output_type": "stream",
     "text": [
      "Renamed: image_0.jpg -> image_0.vi.jpg\n",
      "Renamed: image_1.jpg -> image_1.vi.jpg\n",
      "Renamed: image_3.jpg -> image_3.vi.jpg\n",
      "Renamed: image_14.jpg -> image_14.vi.jpg\n",
      "Renamed: image_12.jpg -> image_12.vi.jpg\n",
      "Renamed: image_2.jpg -> image_2.vi.jpg\n",
      "Renamed: image_13.jpg -> image_13.vi.jpg\n",
      "Renamed: image_4.jpg -> image_4.vi.jpg\n",
      "Renamed: image_15.jpg -> image_15.vi.jpg\n",
      "Renamed: image_9.jpg -> image_9.vi.jpg\n",
      "Renamed: image_11.jpg -> image_11.vi.jpg\n",
      "Renamed: image_5.jpg -> image_5.vi.jpg\n",
      "Renamed: image_10.jpg -> image_10.vi.jpg\n",
      "All matching files have been renamed.\n"
     ]
    }
   ],
   "source": [
    "# 파일명 바꾸기 \n",
    "import os\n",
    "\n",
    "def rename_files_in_directory(directory_path):\n",
    "    try:\n",
    "        for filename in os.listdir(directory_path):\n",
    "            if filename.startswith(\"image_\") and filename.endswith(\".jpg\") and not filename.endswith(\".vi.jpg\"):\n",
    "                # Create the new filename by inserting '.zh' before '.jpg'\n",
    "                new_filename = filename.replace(\".jpg\", \".vi.jpg\")\n",
    "                \n",
    "                # Build full file paths\n",
    "                old_file_path = os.path.join(directory_path, filename)\n",
    "                new_file_path = os.path.join(directory_path, new_filename)\n",
    "                \n",
    "                # Rename the file\n",
    "                os.rename(old_file_path, new_file_path)\n",
    "                print(f\"Renamed: {filename} -> {new_filename}\")\n",
    "        print(\"All matching files have been renamed.\")\n",
    "    except Exception as e:\n",
    "        print(f\"An error occurred: {e}\")\n",
    "\n",
    "rename_files_in_directory('/data/ephemeral/home/whth/code/data/vietnamese_receipt/img/train')"
   ]
  },
  {
   "cell_type": "code",
   "execution_count": 8,
   "metadata": {},
   "outputs": [
    {
     "name": "stdout",
     "output_type": "stream",
     "text": [
      "JSON 파일이 새로운 파일명으로 업데이트되었습니다.\n"
     ]
    }
   ],
   "source": [
    "# json 내의 파일명 변경 \n",
    "import os\n",
    "import json\n",
    "\n",
    "def update_json_file(json_file_path):\n",
    "    try:\n",
    "        # JSON 데이터 불러오기\n",
    "        with open(json_file_path, 'r', encoding='utf-8') as file:\n",
    "            data = json.load(file)\n",
    "        \n",
    "        # JSON 데이터 내 이미지 파일명 업데이트\n",
    "        if \"images\" in data:\n",
    "            updated_images = {}\n",
    "            for key, value in data[\"images\"].items():\n",
    "                new_key = key.replace(\".jpg\", \".vi.jpg\") if key.startswith(\"image_\") else key\n",
    "                updated_images[new_key] = value\n",
    "            \n",
    "            # 'images' 키를 업데이트된 내용으로 교체\n",
    "            data[\"images\"] = updated_images\n",
    "        \n",
    "        # 업데이트된 JSON 파일 저장\n",
    "        with open(json_file_path, 'w', encoding='utf-8') as file:\n",
    "            json.dump(data, file, indent=4, ensure_ascii=False)\n",
    "        \n",
    "        print(\"JSON 파일이 새로운 파일명으로 업데이트되었습니다.\")\n",
    "    except Exception as e:\n",
    "        print(f\"JSON 파일 업데이트 중 오류 발생: {e}\")\n",
    "\n",
    "update_json_file('/data/ephemeral/home/whth/code/data/vietnamese_receipt/ufo/train.json')"
   ]
  }
 ],
 "metadata": {
  "kernelspec": {
   "display_name": "base",
   "language": "python",
   "name": "python3"
  },
  "language_info": {
   "codemirror_mode": {
    "name": "ipython",
    "version": 3
   },
   "file_extension": ".py",
   "mimetype": "text/x-python",
   "name": "python",
   "nbconvert_exporter": "python",
   "pygments_lexer": "ipython3",
   "version": "3.10.13"
  }
 },
 "nbformat": 4,
 "nbformat_minor": 2
}
