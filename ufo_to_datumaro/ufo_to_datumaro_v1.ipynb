{
 "cells": [
  {
   "cell_type": "markdown",
   "metadata": {
    "id": "ENoM-Eo4l80-"
   },
   "source": [
    "## UFO $\\to$ Datumaro 변환\n",
    "\n",
    "Datumaro 형식 참고 : https://docs.cvat.ai/docs/manual/advanced/formats/format-datumaro/"
   ]
  },
  {
   "cell_type": "code",
   "execution_count": 15,
   "metadata": {},
   "outputs": [
    {
     "name": "stdout",
     "output_type": "stream",
     "text": [
      "1.24.4\n"
     ]
    }
   ],
   "source": [
    "# numpy 버전을 2 이하로 맞춰야 함. requirement에 numpy 1.24.4로 기재되어있으므로 이 버전으로 바꾸는 거 추천함\n",
    "import numpy as np\n",
    "print(np.__version__)"
   ]
  },
  {
   "cell_type": "code",
   "execution_count": 16,
   "metadata": {},
   "outputs": [],
   "source": [
    "#!pip install numpy==1.24.4"
   ]
  },
  {
   "cell_type": "code",
   "execution_count": 17,
   "metadata": {},
   "outputs": [],
   "source": [
    "#!pip install -qqq treescope==0.1.1"
   ]
  },
  {
   "cell_type": "code",
   "execution_count": 18,
   "metadata": {},
   "outputs": [],
   "source": [
    "#!apt-get update\n",
    "#!apt-get install -y zip"
   ]
  },
  {
   "cell_type": "code",
   "execution_count": 19,
   "metadata": {
    "id": "smySLZM0l80-"
   },
   "outputs": [],
   "source": [
    "import json\n",
    "from treescope import display as tdisp\n",
    "from matplotlib import pyplot as plt\n",
    "from utils import read_json, datum_aro_2_ufo_reduced\n",
    "from IPython.display import Image as idisp"
   ]
  },
  {
   "cell_type": "code",
   "execution_count": 20,
   "metadata": {
    "id": "OXrAyBxIl80-"
   },
   "outputs": [],
   "source": [
    "ufo_in = read_json(\"/data/ephemeral/home/kjh/level2-cv-datacentric-cv-16/data/vietnamese_receipt/ufo/erased_empty_transcription.json\")"
   ]
  },
  {
   "cell_type": "code",
   "execution_count": 21,
   "metadata": {},
   "outputs": [],
   "source": [
    "# 파일 관련 설정\n",
    "\n",
    "TASK_NAME = \"receipt_vietname_trans\" # CVAT 페이지에서 사용할 task 이름\n",
    "\n",
    "SAVE_DIR = 'annotations'  # 변경한 json을 저장할 디렉토리 이름\n",
    "SAVE_DIR_BACKUP = 'annotations_backup'  # 변경한 json을 모아둘 디렉토리 이름\n",
    "#압축 과정에서 annotations 폴더를 초기화 하기 때문에, 백업용 폴더를 따로 만들어둔 것임\n",
    "ZIP_DIR = 'zip'\n",
    "\n",
    "ZIP_FILENAME = 'annotations_madeup_vi_trans' # CVAT에 업로드하기 위한 ZIP 파일 이름\n",
    "\n",
    "SAVE_FILENAME = 'vietnam_trans'  # 저장할 json 파일 이름"
   ]
  },
  {
   "cell_type": "code",
   "execution_count": 22,
   "metadata": {},
   "outputs": [],
   "source": [
    "# 돈 터치\n",
    "SAVE_PATH = f'{SAVE_DIR}/{SAVE_FILENAME}.json'\n",
    "SAVE_PATH_B = f'{SAVE_DIR_BACKUP}/{SAVE_FILENAME}.json'"
   ]
  },
  {
   "cell_type": "code",
   "execution_count": 23,
   "metadata": {
    "id": "6PVYgxQokIOI"
   },
   "outputs": [],
   "source": [
    "def split_polygon(points:list[tuple[int,int]])->list[list[tuple[int,int]]]:\n",
    "    if len(points) <= 4:\n",
    "        return [points]\n",
    "\n",
    "    # 첫 번째 사각형: 왼쪽 영역\n",
    "    rect1 = [\n",
    "        points[0],  # 왼쪽 상단\n",
    "        points[1],  # 중간 상단\n",
    "        points[4],  # 중간 하단\n",
    "        points[5]   # 왼쪽 하단\n",
    "    ]\n",
    "\n",
    "    # 두 번째 사각형: 오른쪽 영역\n",
    "    rect2 = [\n",
    "        points[1],  # 중간 상단\n",
    "        points[2],  # 오른쪽 상단\n",
    "        points[3],  # 오른쪽 하단\n",
    "        points[4]   # 중간 하단\n",
    "    ]\n",
    "\n",
    "    return [rect1, rect2]\n",
    "\n",
    "    raise NotImplementedError"
   ]
  },
  {
   "cell_type": "code",
   "execution_count": 24,
   "metadata": {
    "id": "k4soXgtrl80-"
   },
   "outputs": [],
   "source": [
    "task_name = TASK_NAME\n",
    "split = \"train\"\n",
    "id_prefix = task_name + \"/images/\" + split + \"/\"\n",
    "\n",
    "wrap_point_items = lambda items: {\n",
    "    \"info\": {},\n",
    "    \"categories\": {\n",
    "        \"label\": {\n",
    "            \"labels\": [{\"name\": \"1\", \"parent\": \"\", \"attributes\": []}],\n",
    "            \"attributes\": [\"occluded\"],\n",
    "        },\n",
    "        \"points\": {\"items\": []},\n",
    "    },\n",
    "    \"items\": items,\n",
    "}\n",
    "\n",
    "get_image_node = lambda img_name: ufo_in[\"images\"][img_name]\n",
    "\n",
    "node_dimensions = lambda img_node: {\n",
    "    \"img_w\": img_node[\"img_w\"],\n",
    "    \"img_h\": img_node[\"img_h\"],\n",
    "}\n",
    "\n",
    "def wrap_annotations(idx: int, img_name: str, annotations: list[dict]):\n",
    "    return {\n",
    "        \"id\": id_prefix + img_name,\n",
    "        #\"id\": img_name,\n",
    "        \"annotations\": annotations,\n",
    "        \"attr\": {\"frame\": idx},\n",
    "        \"point_cloud\": {\"path\": \"\"},\n",
    "        \"info\": node_dimensions(get_image_node(img_name)),\n",
    "    }\n",
    "\n",
    "def wrap_vertices(vertices: list[float]):\n",
    "    return {\n",
    "        \"id\": 0,\n",
    "        \"type\": \"polygon\",\n",
    "        \"attributes\": {\"occluded\": False},\n",
    "        \"group\": 0,\n",
    "        \"label_id\": 0,\n",
    "        \"points\": vertices,\n",
    "        \"z_order\": 0,\n",
    "    }"
   ]
  },
  {
   "cell_type": "code",
   "execution_count": 25,
   "metadata": {},
   "outputs": [],
   "source": [
    "# Datumaro 포맷의 Annotation 객체 생성\n",
    "from utils import extract_flat_points\n",
    "\n",
    "# 이미지 파일 이름 추출 및 정렬\n",
    "image_filenames = sorted([img_name for img_name in ufo_in[\"images\"].keys()])\n",
    "\n",
    "# 정렬된 순서로 처리\n",
    "image_map = {k: ufo_in[\"images\"][k][\"words\"] for k in image_filenames}\n",
    "flat_points = {fname: extract_flat_points(image) for fname, image in image_map.items()}\n",
    "\n",
    "# 정렬된 순서로 annotation 생성\n",
    "annotation = wrap_point_items(\n",
    "    [\n",
    "        wrap_annotations(\n",
    "            idx_, img_name, [wrap_vertices(vertices) for vertices in flat_points[img_name]]\n",
    "        )\n",
    "        for idx_, img_name in enumerate(image_filenames)\n",
    "    ]\n",
    ")"
   ]
  },
  {
   "cell_type": "code",
   "execution_count": 26,
   "metadata": {
    "id": "huTmBRdAl80_"
   },
   "outputs": [],
   "source": [
    "# datumaro json 파일을 저장할 디렉토리 생성, 추후 압축을 위해 비워준다\n",
    "!rm -rf \"./{SAVE_DIR}\"\n",
    "!mkdir -p \"./{SAVE_DIR}\"\n",
    "!mkdir -p \"./{SAVE_DIR_BACKUP}\"\n",
    "!mkdir -p \"./{ZIP_DIR}\""
   ]
  },
  {
   "cell_type": "code",
   "execution_count": 27,
   "metadata": {
    "id": "W4jC15Cdl80_"
   },
   "outputs": [],
   "source": [
    "# 위에서 생성한 Annotation 객체를 json 파일로 저장\n",
    "with open(SAVE_PATH, 'w') as f:\n",
    "    json.dump(annotation, f, indent=2, ensure_ascii=False)\n",
    "with open(SAVE_PATH_B, 'w') as f:\n",
    "    json.dump(annotation, f, indent=2, ensure_ascii=False)"
   ]
  },
  {
   "cell_type": "code",
   "execution_count": 28,
   "metadata": {
    "id": "Y5Qh2_gHl80_"
   },
   "outputs": [
    {
     "name": "stdout",
     "output_type": "stream",
     "text": [
      "  adding: annotations/ (stored 0%)\n",
      "  adding: annotations/vietnam_trans.json (deflated 91%)\n"
     ]
    }
   ],
   "source": [
    "# CVAT에서 쓸 수 있는 zip 파일 생성\n",
    "!zip -r ./{ZIP_DIR}/{ZIP_FILENAME}.zip {SAVE_DIR}"
   ]
  }
 ],
 "metadata": {
  "accelerator": "GPU",
  "colab": {
   "gpuType": "T4",
   "provenance": []
  },
  "kernelspec": {
   "display_name": "base",
   "language": "python",
   "name": "python3"
  },
  "language_info": {
   "codemirror_mode": {
    "name": "ipython",
    "version": 3
   },
   "file_extension": ".py",
   "mimetype": "text/x-python",
   "name": "python",
   "nbconvert_exporter": "python",
   "pygments_lexer": "ipython3",
   "version": "3.10.13"
  }
 },
 "nbformat": 4,
 "nbformat_minor": 0
}
