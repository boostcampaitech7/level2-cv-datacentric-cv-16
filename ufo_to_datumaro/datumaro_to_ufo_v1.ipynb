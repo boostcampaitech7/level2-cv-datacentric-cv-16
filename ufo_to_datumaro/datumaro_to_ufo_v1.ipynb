{
  "cells": [
    {
      "cell_type": "markdown",
      "metadata": {
        "id": "cGTp3AsGl80_"
      },
      "source": [
        "## Datumaro $\\to$ UFO 변환\n",
        "\n",
        "자세한 코드는 utils.py 파일을 참고\n",
        "\n",
        "혹시 이 코드만 돌리면 안 될 수도 있으니 오류 발생시 ufo_to_datumaro 파일에서 설치 내용을 확인해볼 것"
      ]
    },
    {
      "cell_type": "code",
      "execution_count": 9,
      "metadata": {
        "id": "smySLZM0l80-"
      },
      "outputs": [],
      "source": [
        "import json\n",
        "from treescope import display as tdisp\n",
        "from matplotlib import pyplot as plt\n",
        "from utils import read_json, datum_aro_2_ufo_reduced\n",
        "from IPython.display import Image as idisp"
      ]
    },
    {
      "cell_type": "code",
      "execution_count": null,
      "metadata": {
        "id": "2v8aUtjMl80_"
      },
      "outputs": [],
      "source": [
        "# 저장한 Datumaro json 파일을 불러오기 - 바꿀 파일 경로 넣어주면 됨\n",
        "datumaro_in = read_json(\"./annotations/default.json\")\n",
        "#datumaro_in"
      ]
    },
    {
      "cell_type": "code",
      "execution_count": null,
      "metadata": {},
      "outputs": [],
      "source": [
        "# 파일 관련 설정\n",
        "SAVE_DIR = 'datumaro2ufo'  # 변경한 json을 저장할 디렉토리 이름\n",
        "SAVE_FILENAME = 'ufoTest'  # 저장할 json 파일 이름\n",
        "\n",
        "# 돈 터치\n",
        "SAVE_PATH = f'{SAVE_DIR}/{SAVE_FILENAME}.json'"
      ]
    },
    {
      "cell_type": "code",
      "execution_count": null,
      "metadata": {
        "id": "6_x9GjrGl80_"
      },
      "outputs": [],
      "source": [
        "# 간단한 UFO 형식의 데이터로 변환\n",
        "ufo_out = datum_aro_2_ufo_reduced(datumaro_in)\n",
        "#ufo_out"
      ]
    },
    {
      "cell_type": "code",
      "execution_count": null,
      "metadata": {
        "id": "fhulQUa0l81A"
      },
      "outputs": [],
      "source": [
        "!mkdir -p \"./{SAVE_DIR}\""
      ]
    },
    {
      "cell_type": "code",
      "execution_count": null,
      "metadata": {
        "id": "ZYoF5_eil81A"
      },
      "outputs": [],
      "source": [
        "# UFO 형식의 데이터로 저장하기\n",
        "with open(SAVE_PATH, 'w') as f:\n",
        "    json.dump(ufo_out, f, indent=2, ensure_ascii=False)\n"
      ]
    }
  ],
  "metadata": {
    "accelerator": "GPU",
    "colab": {
      "gpuType": "T4",
      "provenance": []
    },
    "kernelspec": {
      "display_name": "base",
      "language": "python",
      "name": "python3"
    },
    "language_info": {
      "codemirror_mode": {
        "name": "ipython",
        "version": 3
      },
      "file_extension": ".py",
      "mimetype": "text/x-python",
      "name": "python",
      "nbconvert_exporter": "python",
      "pygments_lexer": "ipython3",
      "version": "3.10.13"
    }
  },
  "nbformat": 4,
  "nbformat_minor": 0
}
