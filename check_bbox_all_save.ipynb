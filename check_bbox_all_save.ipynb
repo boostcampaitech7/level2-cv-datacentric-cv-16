{
 "cells": [
  {
   "cell_type": "code",
   "execution_count": 1,
   "metadata": {},
   "outputs": [],
   "source": [
    "import os\n",
    "import json\n",
    "from glob import glob\n",
    "from pathlib import Path\n",
    "from PIL import Image, ImageDraw\n",
    "import matplotlib.pyplot as plt\n",
    "import matplotlib.patches as patches"
   ]
  },
  {
   "cell_type": "code",
   "execution_count": 2,
   "metadata": {},
   "outputs": [],
   "source": [
    "output_path = './bbox_results'"
   ]
  },
  {
   "cell_type": "code",
   "execution_count": 3,
   "metadata": {},
   "outputs": [],
   "source": [
    "# bbox 그리기 및 저장 함수 정의\n",
    "def draw_and_save_bbox(nation_code, input_base_path='./code/data', output_base_path='./bbox_output'):\n",
    "    \"\"\"\n",
    "    지정된 국가 코드의 데이터셋에 대해 bbox를 그리고 저장하는 함수\n",
    "    \n",
    "    Args:\n",
    "        nation_code (str): 국가 코드 ('vi', 'th', 'zh', 'ja' 중 하나)\n",
    "        input_base_path (str): 입력 데이터가 있는 기본 경로\n",
    "        output_base_path (str): 출력 이미지를 저장할 기본 경로\n",
    "    \"\"\"\n",
    "    # 국가별 폴더명 매핑\n",
    "    nation_dict = {\n",
    "        'vi': 'vietnamese_receipt',\n",
    "        'th': 'thai_receipt',\n",
    "        'zh': 'chinese_receipt',\n",
    "        'ja': 'japanese_receipt',\n",
    "    }\n",
    "    \n",
    "    if nation_code not in nation_dict:\n",
    "        raise ValueError(f\"Invalid nation code. Must be one of {list(nation_dict.keys())}\")\n",
    "    \n",
    "    # 경로 설정\n",
    "    nation_folder = nation_dict[nation_code]\n",
    "    json_path = os.path.join(input_base_path, nation_folder, 'ufo/train.json')\n",
    "    img_input_path = os.path.join(input_base_path, nation_folder, 'img/train')\n",
    "    img_output_path = os.path.join(output_base_path, nation_folder)\n",
    "    \n",
    "    # 출력 디렉토리 생성\n",
    "    os.makedirs(img_output_path, exist_ok=True)\n",
    "    \n",
    "    # JSON 데이터 로드\n",
    "    with open(json_path) as f:\n",
    "        json_data = json.load(f)['images']\n",
    "    \n",
    "    # 각 이미지에 대해 처리\n",
    "    for img_name in json_data.keys():\n",
    "        # 원본 이미지 로드\n",
    "        img = Image.open(os.path.join(img_input_path, img_name))\n",
    "        \n",
    "        # matplotlib figure 생성\n",
    "        fig, ax = plt.subplots(figsize=(12, 7))\n",
    "        ax.imshow(img)\n",
    "        \n",
    "        # 모든 단어에 대해 bbox 그리기\n",
    "        for word_info in json_data[img_name]['words'].values():\n",
    "            points = word_info['points']\n",
    "            x1, y1 = points[0]\n",
    "            x2, y2 = points[2]\n",
    "            rect = patches.Rectangle(\n",
    "                (x1, y1), x2-x1, y2-y1,\n",
    "                linewidth=1,\n",
    "                edgecolor='r',\n",
    "                facecolor='none'\n",
    "            )\n",
    "            ax.add_patch(rect)\n",
    "        \n",
    "        # 축 제거\n",
    "        ax.set_xticks([])\n",
    "        ax.set_yticks([])\n",
    "        \n",
    "        # 여백 최소화\n",
    "        plt.tight_layout()\n",
    "        \n",
    "        # 이미지 저장\n",
    "        output_filename = os.path.splitext(img_name)[0] + '_bbox.png'\n",
    "        plt.savefig(\n",
    "            os.path.join(img_output_path, output_filename),\n",
    "            bbox_inches='tight',\n",
    "            pad_inches=0,\n",
    "            dpi=100\n",
    "        )\n",
    "        \n",
    "        # 메모리 정리\n",
    "        plt.close(fig)\n",
    "        \n",
    "    print(f\"Completed processing {len(json_data)} images for {nation_folder}\")\n",
    "    print(f\"Output saved to: {img_output_path}\")"
   ]
  },
  {
   "cell_type": "code",
   "execution_count": 4,
   "metadata": {},
   "outputs": [
    {
     "name": "stdout",
     "output_type": "stream",
     "text": [
      "Completed processing 100 images for chinese_receipt\n",
      "Output saved to: ./bbox_results/chinese_receipt\n"
     ]
    }
   ],
   "source": [
    "# 단일 국가 처리 예시\n",
    "nation_code = 'zh'  # 원하는 국가 코드로 변경 가능 ('vi', 'th', 'zh', 'ja')\n",
    "draw_and_save_bbox(nation_code, output_base_path=output_path)"
   ]
  },
  {
   "cell_type": "code",
   "execution_count": 5,
   "metadata": {},
   "outputs": [
    {
     "data": {
      "text/plain": [
       "'\\n# 모든 국가 처리 예시\\noutput_path = \\'./bbox_results\\'\\nfor nation_code in [\\'vi\\', \\'th\\', \\'zh\\', \\'ja\\']:\\n    try:\\n        draw_and_save_bbox(nation_code, output_base_path=output_path)\\n    except Exception as e:\\n        print(f\"Error processing {nation_code}: {str(e)}\")\\n'"
      ]
     },
     "execution_count": 5,
     "metadata": {},
     "output_type": "execute_result"
    }
   ],
   "source": [
    "\"\"\"\n",
    "# 모든 국가 처리 예시\n",
    "output_path = './bbox_results'\n",
    "for nation_code in ['vi', 'th', 'zh', 'ja']:\n",
    "    try:\n",
    "        draw_and_save_bbox(nation_code, output_base_path=output_path)\n",
    "    except Exception as e:\n",
    "        print(f\"Error processing {nation_code}: {str(e)}\")\n",
    "\"\"\""
   ]
  }
 ],
 "metadata": {
  "kernelspec": {
   "display_name": "base",
   "language": "python",
   "name": "python3"
  },
  "language_info": {
   "codemirror_mode": {
    "name": "ipython",
    "version": 3
   },
   "file_extension": ".py",
   "mimetype": "text/x-python",
   "name": "python",
   "nbconvert_exporter": "python",
   "pygments_lexer": "ipython3",
   "version": "3.10.13"
  }
 },
 "nbformat": 4,
 "nbformat_minor": 2
}
