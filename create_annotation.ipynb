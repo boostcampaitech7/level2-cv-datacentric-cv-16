{
 "cells": [
  {
   "cell_type": "code",
   "execution_count": 1,
   "metadata": {},
   "outputs": [],
   "source": [
    "# pip install easyocr\n",
    "# github: https://github.com/JaidedAI/EasyOCR/tree/master"
   ]
  },
  {
   "cell_type": "code",
   "execution_count": null,
   "metadata": {},
   "outputs": [],
   "source": [
    "import easyocr\n",
    "import matplotlib.pyplot as plt\n",
    "import matplotlib.patches as patches\n",
    "from PIL import Image, ImageOps\n",
    "\n",
    "# 다 똑같은거 같은데 뭔 차이인지 모르겠음\n",
    "# 'en'만 같이 들어갈 수 있고 아니면 하나만 들어가야함 (2개 이하)\n",
    "lang_list = ['ja', 'th', 'en', 'vi', 'ch_sim', 'ch_tra']\n",
    "img_path = '/data/ephemeral/home/hobbang/level2-cv-datacentric-cv-16/data/chinese_receipt/img/test/extractor.zh.in_house.appen_000041_page0001.jpg'\n",
    "\n",
    "reader = easyocr.Reader(['en', 'ch_sim'], gpu=True)\n",
    "results = []\n",
    "results.append(reader.readtext(img_path))\n",
    "\n",
    "img = Image.open(img_path)\n",
    "img = ImageOps.exif_transpose(img)\n",
    "\n",
    "fig, ax = plt.subplots(1,1,figsize=[10,10])\n",
    "ax.imshow(img)\n",
    "for annot in results[0]:\n",
    "    poly = patches.Polygon(annot[0], linewidth=1, edgecolor='r', facecolor='none')\n",
    "    ax.add_patch(poly)\n",
    "\n",
    "ax.set_axis_off()\n",
    "\n",
    "plt.show()"
   ]
  }
 ],
 "metadata": {
  "kernelspec": {
   "display_name": "base",
   "language": "python",
   "name": "python3"
  },
  "language_info": {
   "codemirror_mode": {
    "name": "ipython",
    "version": 3
   },
   "file_extension": ".py",
   "mimetype": "text/x-python",
   "name": "python",
   "nbconvert_exporter": "python",
   "pygments_lexer": "ipython3",
   "version": "3.10.13"
  }
 },
 "nbformat": 4,
 "nbformat_minor": 2
}
